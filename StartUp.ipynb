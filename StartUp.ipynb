{
 "cells": [
  {
   "cell_type": "markdown",
   "metadata": {},
   "source": [
    "## IMPORTS "
   ]
  },
  {
   "cell_type": "code",
   "execution_count": 48,
   "metadata": {},
   "outputs": [],
   "source": [
    "import pandas as pd\n",
    "import matplotlib.pyplot as plt \n",
    "import numpy as np\n",
    "\n",
    "#Plotly \n",
    "import plotly.plotly as py\n",
    "import plotly.tools as tls\n",
    "import plotly.graph_objs as go\n",
    "tls.set_credentials_file(username='YassinAlsahlani', api_key='OXKRgABTH7JH17V5hgI2')"
   ]
  },
  {
   "cell_type": "code",
   "execution_count": 49,
   "metadata": {},
   "outputs": [],
   "source": [
    "### Loading the dataset and removing the outliers"
   ]
  },
  {
   "cell_type": "code",
   "execution_count": 98,
   "metadata": {},
   "outputs": [
    {
     "data": {
      "text/html": [
       "<div>\n",
       "<style scoped>\n",
       "    .dataframe tbody tr th:only-of-type {\n",
       "        vertical-align: middle;\n",
       "    }\n",
       "\n",
       "    .dataframe tbody tr th {\n",
       "        vertical-align: top;\n",
       "    }\n",
       "\n",
       "    .dataframe thead th {\n",
       "        text-align: right;\n",
       "    }\n",
       "</style>\n",
       "<table border=\"1\" class=\"dataframe\">\n",
       "  <thead>\n",
       "    <tr style=\"text-align: right;\">\n",
       "      <th></th>\n",
       "      <th>Unnamed: 0</th>\n",
       "      <th>What college/university do you currently attend?</th>\n",
       "      <th>What year are you?</th>\n",
       "      <th>What is your major?</th>\n",
       "      <th>Number of minutes spent meming per day (receiving, sending, editing, viewing, etc.)</th>\n",
       "      <th>What meme-related apps do you currently have on your device?</th>\n",
       "      <th>How many memes do you have on your camera roll?</th>\n",
       "      <th>What do you think the meme industry is lacking?</th>\n",
       "      <th>Do you prefer video memes or picture memes?</th>\n",
       "      <th>Number of minutes spent Giffing per day (receiving, sending, editing, viewing, etc.)</th>\n",
       "      <th>What are your overall thoughts on Gifs (or Jif, if you are related to Satan)?</th>\n",
       "      <th>What challenges do you think meme creators face?</th>\n",
       "      <th>Number of minutes spent giffing per day (receiving, sending, editing, viewing, etc.)</th>\n",
       "      <th>Name</th>\n",
       "      <th>Email</th>\n",
       "      <th>Email Address</th>\n",
       "      <th>Email Address.1</th>\n",
       "    </tr>\n",
       "  </thead>\n",
       "  <tbody>\n",
       "    <tr>\n",
       "      <th>0</th>\n",
       "      <td>1/30/2019 10:26:28</td>\n",
       "      <td>GATECH</td>\n",
       "      <td>Junior</td>\n",
       "      <td>Computer Science</td>\n",
       "      <td>50.0</td>\n",
       "      <td>0</td>\n",
       "      <td>0</td>\n",
       "      <td>A proper way to clean up and present memes. Al...</td>\n",
       "      <td>Video Memes</td>\n",
       "      <td>0.0</td>\n",
       "      <td>Don't particularly care for them. I prefer emo...</td>\n",
       "      <td>Memes are great content and they should be all...</td>\n",
       "      <td>NaN</td>\n",
       "      <td>NaN</td>\n",
       "      <td>NaN</td>\n",
       "      <td>NaN</td>\n",
       "      <td>NaN</td>\n",
       "    </tr>\n",
       "    <tr>\n",
       "      <th>1</th>\n",
       "      <td>1/30/2019 10:31:37</td>\n",
       "      <td>GATECH</td>\n",
       "      <td>Sophomore</td>\n",
       "      <td>Business</td>\n",
       "      <td>90.0</td>\n",
       "      <td>Instagram</td>\n",
       "      <td>40</td>\n",
       "      <td>Ironic Memes</td>\n",
       "      <td>Picture Memes</td>\n",
       "      <td>0.0</td>\n",
       "      <td>Boring, unnecessary, too much of a hassle</td>\n",
       "      <td>They focus on quantity rather than quality</td>\n",
       "      <td>NaN</td>\n",
       "      <td>NaN</td>\n",
       "      <td>NaN</td>\n",
       "      <td>NaN</td>\n",
       "      <td>NaN</td>\n",
       "    </tr>\n",
       "    <tr>\n",
       "      <th>2</th>\n",
       "      <td>1/30/2019 12:17:00</td>\n",
       "      <td>GATECH</td>\n",
       "      <td>Junior</td>\n",
       "      <td>Computer Engineering</td>\n",
       "      <td>120.0</td>\n",
       "      <td>Snapchat, Instagram, Twitter, &amp; Memeois</td>\n",
       "      <td>50</td>\n",
       "      <td>A Tool that allows creators to own their memes...</td>\n",
       "      <td>Video Memes</td>\n",
       "      <td>NaN</td>\n",
       "      <td>Negative. Over the top with no sound</td>\n",
       "      <td>Meme creators have a creativity problem thinki...</td>\n",
       "      <td>0.0</td>\n",
       "      <td>NaN</td>\n",
       "      <td>NaN</td>\n",
       "      <td>NaN</td>\n",
       "      <td>NaN</td>\n",
       "    </tr>\n",
       "    <tr>\n",
       "      <th>3</th>\n",
       "      <td>2/5/2019 9:40:17</td>\n",
       "      <td>Georgia Institute of Technology</td>\n",
       "      <td>Junior</td>\n",
       "      <td>Biomedical Engineering</td>\n",
       "      <td>6.0</td>\n",
       "      <td>Ig and Twitter</td>\n",
       "      <td>5</td>\n",
       "      <td>NaN</td>\n",
       "      <td>Video Memes</td>\n",
       "      <td>NaN</td>\n",
       "      <td>NaN</td>\n",
       "      <td>I don’t know</td>\n",
       "      <td>2.0</td>\n",
       "      <td>NaN</td>\n",
       "      <td>NaN</td>\n",
       "      <td>NaN</td>\n",
       "      <td>NaN</td>\n",
       "    </tr>\n",
       "    <tr>\n",
       "      <th>4</th>\n",
       "      <td>2/5/2019 9:58:37</td>\n",
       "      <td>Georgia Tech</td>\n",
       "      <td>Freshman</td>\n",
       "      <td>Mechanical Enginner</td>\n",
       "      <td>45.0</td>\n",
       "      <td>Twitter and Instagram</td>\n",
       "      <td>2</td>\n",
       "      <td>Intellectual property</td>\n",
       "      <td>Picture Memes</td>\n",
       "      <td>NaN</td>\n",
       "      <td>I love them</td>\n",
       "      <td>Orginality</td>\n",
       "      <td>45.0</td>\n",
       "      <td>NaN</td>\n",
       "      <td>NaN</td>\n",
       "      <td>NaN</td>\n",
       "      <td>NaN</td>\n",
       "    </tr>\n",
       "  </tbody>\n",
       "</table>\n",
       "</div>"
      ],
      "text/plain": [
       "           Unnamed: 0 What college/university do you currently attend?  \\\n",
       "0  1/30/2019 10:26:28                                           GATECH   \n",
       "1  1/30/2019 10:31:37                                           GATECH   \n",
       "2  1/30/2019 12:17:00                                           GATECH   \n",
       "3    2/5/2019 9:40:17                 Georgia Institute of Technology    \n",
       "4    2/5/2019 9:58:37                                     Georgia Tech   \n",
       "\n",
       "  What year are you?      What is your major?  \\\n",
       "0             Junior         Computer Science   \n",
       "1          Sophomore                 Business   \n",
       "2             Junior    Computer Engineering    \n",
       "3             Junior  Biomedical Engineering    \n",
       "4           Freshman      Mechanical Enginner   \n",
       "\n",
       "   Number of minutes spent meming per day (receiving, sending, editing, viewing, etc.)  \\\n",
       "0                                               50.0                                     \n",
       "1                                               90.0                                     \n",
       "2                                              120.0                                     \n",
       "3                                                6.0                                     \n",
       "4                                               45.0                                     \n",
       "\n",
       "  What meme-related apps do you currently have on your device?   \\\n",
       "0                                                  0              \n",
       "1                                          Instagram              \n",
       "2            Snapchat, Instagram, Twitter, & Memeois              \n",
       "3                                    Ig and Twitter               \n",
       "4                              Twitter and Instagram              \n",
       "\n",
       "  How many memes do you have on your camera roll?  \\\n",
       "0                                               0   \n",
       "1                                              40   \n",
       "2                                              50   \n",
       "3                                               5   \n",
       "4                                               2   \n",
       "\n",
       "     What do you think the meme industry is lacking?  \\\n",
       "0  A proper way to clean up and present memes. Al...   \n",
       "1                                       Ironic Memes   \n",
       "2  A Tool that allows creators to own their memes...   \n",
       "3                                                NaN   \n",
       "4                              Intellectual property   \n",
       "\n",
       "  Do you prefer video memes or picture memes?  \\\n",
       "0                                 Video Memes   \n",
       "1                               Picture Memes   \n",
       "2                                 Video Memes   \n",
       "3                                 Video Memes   \n",
       "4                               Picture Memes   \n",
       "\n",
       "   Number of minutes spent Giffing per day (receiving, sending, editing, viewing, etc.)  \\\n",
       "0                                                0.0                                      \n",
       "1                                                0.0                                      \n",
       "2                                                NaN                                      \n",
       "3                                                NaN                                      \n",
       "4                                                NaN                                      \n",
       "\n",
       "  What are your overall thoughts on Gifs (or Jif, if you are related to Satan)?  \\\n",
       "0  Don't particularly care for them. I prefer emo...                              \n",
       "1          Boring, unnecessary, too much of a hassle                              \n",
       "2               Negative. Over the top with no sound                              \n",
       "3                                                NaN                              \n",
       "4                                        I love them                              \n",
       "\n",
       "    What challenges do you think meme creators face?  \\\n",
       "0  Memes are great content and they should be all...   \n",
       "1         They focus on quantity rather than quality   \n",
       "2  Meme creators have a creativity problem thinki...   \n",
       "3                                       I don’t know   \n",
       "4                                         Orginality   \n",
       "\n",
       "   Number of minutes spent giffing per day (receiving, sending, editing, viewing, etc.)  \\\n",
       "0                                                NaN                                      \n",
       "1                                                NaN                                      \n",
       "2                                                0.0                                      \n",
       "3                                                2.0                                      \n",
       "4                                               45.0                                      \n",
       "\n",
       "  Name  Email  Email Address Email Address.1  \n",
       "0  NaN    NaN            NaN             NaN  \n",
       "1  NaN    NaN            NaN             NaN  \n",
       "2  NaN    NaN            NaN             NaN  \n",
       "3  NaN    NaN            NaN             NaN  \n",
       "4  NaN    NaN            NaN             NaN  "
      ]
     },
     "execution_count": 98,
     "metadata": {},
     "output_type": "execute_result"
    }
   ],
   "source": [
    "#Importing the data\n",
    "df = pd.read_csv(\"StartUpQ's.csv\")\n",
    "\n",
    "#Removing the outliers\n",
    "# df = df.drop(labels=[15,63, 64,84, 99]) \n",
    "df.head()"
   ]
  },
  {
   "cell_type": "markdown",
   "metadata": {},
   "source": [
    "### Number of minutes spent giffing per day "
   ]
  },
  {
   "cell_type": "code",
   "execution_count": 101,
   "metadata": {},
   "outputs": [
    {
     "name": "stdout",
     "output_type": "stream",
     "text": [
      "('Count: ', 96, 'AVG: ', 14.826145833333333)\n"
     ]
    },
    {
     "data": {
      "text/html": [
       "<iframe id=\"igraph\" scrolling=\"no\" style=\"border:none;\" seamless=\"seamless\" src=\"https://plot.ly/~YassinAlsahlani/12.embed\" height=\"525px\" width=\"100%\"></iframe>"
      ],
      "text/plain": [
       "<plotly.tools.PlotlyDisplay object>"
      ]
     },
     "execution_count": 101,
     "metadata": {},
     "output_type": "execute_result"
    }
   ],
   "source": [
    "tempSeries = df[\"Number of minutes spent giffing per day (receiving, sending, editing, viewing, etc.)\"]\n",
    "tempSeries = tempSeries[tempSeries < 400 ]\n",
    "data = [go.Bar(x=np.arange(len(tempSeries)), y=tempSeries, name = 'Time Spent Giffing')]\n",
    "print(\"Count: \", len(tempSeries), \"AVG: \", tempSeries.mean())\n",
    "py.iplot(data, filename=\"Time Spent Giffing\")"
   ]
  },
  {
   "cell_type": "code",
   "execution_count": 102,
   "metadata": {},
   "outputs": [
    {
     "data": {
      "text/html": [
       "<iframe id=\"igraph\" scrolling=\"no\" style=\"border:none;\" seamless=\"seamless\" src=\"https://plot.ly/~YassinAlsahlani/34.embed\" height=\"525px\" width=\"100%\"></iframe>"
      ],
      "text/plain": [
       "<plotly.tools.PlotlyDisplay object>"
      ]
     },
     "execution_count": 102,
     "metadata": {},
     "output_type": "execute_result"
    }
   ],
   "source": [
    "trace0 = go.Box(y=tempSeries, name = 'Memes on Device')\n",
    "data = [trace0]\n",
    "py.iplot(data, filename=\"Number of Minutes spent Giffing(Box and Whiskers)\")"
   ]
  },
  {
   "cell_type": "markdown",
   "metadata": {},
   "source": [
    "### Number of Minutes spent Meming per day\n"
   ]
  },
  {
   "cell_type": "code",
   "execution_count": 99,
   "metadata": {},
   "outputs": [
    {
     "name": "stdout",
     "output_type": "stream",
     "text": [
      "('Count: ', 95, 'AVG: ', 55.305263157894736)\n"
     ]
    },
    {
     "data": {
      "text/html": [
       "<iframe id=\"igraph\" scrolling=\"no\" style=\"border:none;\" seamless=\"seamless\" src=\"https://plot.ly/~YassinAlsahlani/30.embed\" height=\"525px\" width=\"100%\"></iframe>"
      ],
      "text/plain": [
       "<plotly.tools.PlotlyDisplay object>"
      ]
     },
     "execution_count": 99,
     "metadata": {},
     "output_type": "execute_result"
    }
   ],
   "source": [
    "tempSeries = df[\"Number of minutes spent meming per day (receiving, sending, editing, viewing, etc.)\"]\n",
    "tempSeries = tempSeries[tempSeries < 400 ]\n",
    "data = [go.Bar(x=np.arange(len(tempSeries)), y=tempSeries, name = 'Time Spent Giffing', marker = dict( color = '#FF851B'))]\n",
    "print(\"Count: \", len(tempSeries), \"AVG: \", tempSeries.mean())\n",
    "py.iplot(data, filename=\"Time Spent Meming(Bar)\")"
   ]
  },
  {
   "cell_type": "code",
   "execution_count": 100,
   "metadata": {},
   "outputs": [
    {
     "data": {
      "text/html": [
       "<iframe id=\"igraph\" scrolling=\"no\" style=\"border:none;\" seamless=\"seamless\" src=\"https://plot.ly/~YassinAlsahlani/32.embed\" height=\"525px\" width=\"100%\"></iframe>"
      ],
      "text/plain": [
       "<plotly.tools.PlotlyDisplay object>"
      ]
     },
     "execution_count": 100,
     "metadata": {},
     "output_type": "execute_result"
    }
   ],
   "source": [
    "trace0 = go.Box(y=tempSeries, name = 'Memes on Device', marker = dict( color = '#FF851B'))\n",
    "data = [trace0]\n",
    "py.iplot(data, filename=\"Number of Minutes spent meming(Box and Whiskers)\")"
   ]
  },
  {
   "cell_type": "markdown",
   "metadata": {},
   "source": [
    "### Number of Memes on Device"
   ]
  },
  {
   "cell_type": "code",
   "execution_count": 96,
   "metadata": {},
   "outputs": [
    {
     "name": "stdout",
     "output_type": "stream",
     "text": [
      "('Count: ', 87, 'AVG: ', 99.29885057471265)\n"
     ]
    },
    {
     "data": {
      "text/html": [
       "<iframe id=\"igraph\" scrolling=\"no\" style=\"border:none;\" seamless=\"seamless\" src=\"https://plot.ly/~YassinAlsahlani/17.embed\" height=\"525px\" width=\"100%\"></iframe>"
      ],
      "text/plain": [
       "<plotly.tools.PlotlyDisplay object>"
      ]
     },
     "execution_count": 96,
     "metadata": {},
     "output_type": "execute_result"
    }
   ],
   "source": [
    "tempSeries = df[\"How many memes do you have on your camera roll?\"].astype(int)\n",
    "tempSeries = tempSeries[tempSeries < 1000 ]\n",
    "data = [go.Bar(x=np.arange(len(tempSeries)), y=tempSeries, name = 'Memes on Device', marker = dict( color = 'rgb(214, 12, 140)'))]\n",
    "print(\"Count: \", len(tempSeries), \"AVG: \", tempSeries.mean())\n",
    "py.iplot(data, filename=\"Number of Memes on Device(Bar)\")"
   ]
  },
  {
   "cell_type": "code",
   "execution_count": 97,
   "metadata": {},
   "outputs": [
    {
     "data": {
      "text/html": [
       "<iframe id=\"igraph\" scrolling=\"no\" style=\"border:none;\" seamless=\"seamless\" src=\"https://plot.ly/~YassinAlsahlani/28.embed\" height=\"525px\" width=\"100%\"></iframe>"
      ],
      "text/plain": [
       "<plotly.tools.PlotlyDisplay object>"
      ]
     },
     "execution_count": 97,
     "metadata": {},
     "output_type": "execute_result"
    }
   ],
   "source": [
    "trace0 = go.Box(y=tempSeries, name = 'Memes on Device', marker = dict( color = 'rgb(214, 12, 140)'))\n",
    "data = [trace0]\n",
    "py.iplot(data, filename=\"Number of Memes on Device(Box and Whiskers)\")"
   ]
  },
  {
   "cell_type": "markdown",
   "metadata": {},
   "source": [
    "### School"
   ]
  },
  {
   "cell_type": "code",
   "execution_count": 141,
   "metadata": {},
   "outputs": [
    {
     "data": {
      "text/plain": [
       "0                                            COOLECH\n",
       "1                                            COOLECH\n",
       "2                                            COOLECH\n",
       "3                   Georgia Institute of Technology \n",
       "4                                       Georgia Tech\n",
       "5                                       Georgia Tech\n",
       "6                                       Georgia Tech\n",
       "7                    Georgia Institute of Technology\n",
       "8                            Notre Dame of Maryland \n",
       "9                    Winston Salem State University \n",
       "10               North Carolina A&T State University\n",
       "11                                     Georgia Tech \n",
       "12                  Georgia Institute of Technology \n",
       "13                                      Georgia tech\n",
       "14                       University of Pennsylvania \n",
       "15                                              Gech\n",
       "16                                      Georgia Tech\n",
       "17                                      Georgia Tech\n",
       "18                                      Georgia Tech\n",
       "19                                      Georgia tech\n",
       "20                   Georgia Institute of Technology\n",
       "21                     None, I graduated from GaTech\n",
       "22                                      Georgia Texh\n",
       "23                                      Georgia Tech\n",
       "24                                      Georgia Tech\n",
       "25                                      Georgia Tech\n",
       "26                                      Georgia Tech\n",
       "27                  Georgia Institute of Technology \n",
       "28                                     Georgia Tech \n",
       "29                          Georgia tech University \n",
       "                           ...                      \n",
       "72                                     Georgia State\n",
       "73                                      Georgia Tech\n",
       "74                                      Georgia Tech\n",
       "75                                      Georgia Tech\n",
       "76                                      Georgia Tech\n",
       "77                          Georgia State University\n",
       "78                                       GT graduate\n",
       "79                         Georgia State University \n",
       "80                  Georgia Institute of Technology \n",
       "81                   Georgia Institute of Technology\n",
       "82                                      Georgia Tech\n",
       "83                                      Georgia Tech\n",
       "84                                               GSU\n",
       "85                                      Georgia Tech\n",
       "86                                                GT\n",
       "87                                     Georgia Tech \n",
       "88                               Georgia Tech (Gech)\n",
       "89                                      Georgia Tech\n",
       "90                   Georgia Institute of Technology\n",
       "91                                      Georgia Tech\n",
       "92                                      Georgia Tech\n",
       "93                            University of Delaware\n",
       "94                          Georgia Tech University \n",
       "95                                            GaTech\n",
       "96                                             emory\n",
       "97                                      Georgia Tech\n",
       "98                                         COOL Tech\n",
       "99                          Georgia State University\n",
       "100                                     Georgia Tech\n",
       "101    University of Georgia Institute of Technology\n",
       "Name: What college/university do you currently attend?, Length: 102, dtype: object"
      ]
     },
     "execution_count": 141,
     "metadata": {},
     "output_type": "execute_result"
    }
   ],
   "source": [
    "tempSeries = df[\"What college/university do you currently attend?\"].replace(to_replace= r'GAT*', value=\"COOL\", regex=True)\n",
    "tempSeries"
   ]
  },
  {
   "cell_type": "code",
   "execution_count": null,
   "metadata": {},
   "outputs": [],
   "source": []
  }
 ],
 "metadata": {
  "kernelspec": {
   "display_name": "Python 2",
   "language": "python",
   "name": "python2"
  },
  "language_info": {
   "codemirror_mode": {
    "name": "ipython",
    "version": 2
   },
   "file_extension": ".py",
   "mimetype": "text/x-python",
   "name": "python",
   "nbconvert_exporter": "python",
   "pygments_lexer": "ipython2",
   "version": "2.7.15"
  }
 },
 "nbformat": 4,
 "nbformat_minor": 2
}
