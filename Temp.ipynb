{
 "cells": [
  {
   "cell_type": "code",
   "execution_count": 123,
   "metadata": {},
   "outputs": [],
   "source": [
    "import pandas as pd\n",
    "import matplotlib.pyplot as plt\n",
    "import plotly.plotly as py\n",
    "import plotly.tools as tls\n",
    "import plotly\n",
    "plotly.tools.set_credentials_file(username='YassinAlsahlani', api_key='OXKRgABTH7JH17V5hgI2')"
   ]
  },
  {
   "cell_type": "code",
   "execution_count": 115,
   "metadata": {},
   "outputs": [],
   "source": [
    "df = pd.read_csv(\"StartUpQ's.csv\")\n"
   ]
  },
  {
   "cell_type": "code",
   "execution_count": 137,
   "metadata": {},
   "outputs": [
    {
     "data": {
      "text/html": [
       "<div>\n",
       "<style scoped>\n",
       "    .dataframe tbody tr th:only-of-type {\n",
       "        vertical-align: middle;\n",
       "    }\n",
       "\n",
       "    .dataframe tbody tr th {\n",
       "        vertical-align: top;\n",
       "    }\n",
       "\n",
       "    .dataframe thead th {\n",
       "        text-align: right;\n",
       "    }\n",
       "</style>\n",
       "<table border=\"1\" class=\"dataframe\">\n",
       "  <thead>\n",
       "    <tr style=\"text-align: right;\">\n",
       "      <th></th>\n",
       "      <th>Unnamed: 0</th>\n",
       "      <th>What college/university do you currently attend?</th>\n",
       "      <th>What year are you?</th>\n",
       "      <th>What is your major?</th>\n",
       "      <th>Number of minutes spent meming per day (receiving, sending, editing, viewing, etc.)</th>\n",
       "      <th>What meme-related apps do you currently have on your device?</th>\n",
       "      <th>How many memes do you have on your camera roll?</th>\n",
       "      <th>What do you think the meme industry is lacking?</th>\n",
       "      <th>Do you prefer video memes or picture memes?</th>\n",
       "      <th>Number of minutes spent Giffing per day (receiving, sending, editing, viewing, etc.)</th>\n",
       "      <th>What are your overall thoughts on Gifs (or Jif, if you are related to Satan)?</th>\n",
       "      <th>What challenges do you think meme creators face?</th>\n",
       "      <th>Number of minutes spent giffing per day (receiving, sending, editing, viewing, etc.)</th>\n",
       "      <th>Name</th>\n",
       "      <th>Email</th>\n",
       "      <th>Email Address</th>\n",
       "      <th>Email Address.1</th>\n",
       "    </tr>\n",
       "  </thead>\n",
       "  <tbody>\n",
       "    <tr>\n",
       "      <th>100</th>\n",
       "      <td>2/8/2019 11:17:43</td>\n",
       "      <td>Georgia Tech</td>\n",
       "      <td>Senior</td>\n",
       "      <td>Chemical Engineering</td>\n",
       "      <td>75.0</td>\n",
       "      <td>Facebook, Twitter</td>\n",
       "      <td>10</td>\n",
       "      <td>Originality</td>\n",
       "      <td>Picture Memes</td>\n",
       "      <td>NaN</td>\n",
       "      <td>NaN</td>\n",
       "      <td>Coming up with new memes</td>\n",
       "      <td>0.0</td>\n",
       "      <td>Pallavi Garg</td>\n",
       "      <td>NaN</td>\n",
       "      <td>NaN</td>\n",
       "      <td>pgarg35@gatech.edu</td>\n",
       "    </tr>\n",
       "    <tr>\n",
       "      <th>101</th>\n",
       "      <td>2/9/2019 21:41:50</td>\n",
       "      <td>University of Georgia Institute of Technology</td>\n",
       "      <td>Doctoral student</td>\n",
       "      <td>Mechanical Engineer</td>\n",
       "      <td>60.0</td>\n",
       "      <td>Plebbit, Mimi, Facebook</td>\n",
       "      <td>1024</td>\n",
       "      <td>Blepes</td>\n",
       "      <td>Picture Memes</td>\n",
       "      <td>NaN</td>\n",
       "      <td>Take up too many megabytes</td>\n",
       "      <td>Using paint</td>\n",
       "      <td>2.0</td>\n",
       "      <td>Rob</td>\n",
       "      <td>NaN</td>\n",
       "      <td>NaN</td>\n",
       "      <td>pheenixm@gmail.com</td>\n",
       "    </tr>\n",
       "  </tbody>\n",
       "</table>\n",
       "</div>"
      ],
      "text/plain": [
       "            Unnamed: 0 What college/university do you currently attend?  \\\n",
       "100  2/8/2019 11:17:43                                     Georgia Tech   \n",
       "101  2/9/2019 21:41:50    University of Georgia Institute of Technology   \n",
       "\n",
       "    What year are you?    What is your major?  \\\n",
       "100             Senior  Chemical Engineering    \n",
       "101   Doctoral student    Mechanical Engineer   \n",
       "\n",
       "     Number of minutes spent meming per day (receiving, sending, editing, viewing, etc.)  \\\n",
       "100                                               75.0                                     \n",
       "101                                               60.0                                     \n",
       "\n",
       "    What meme-related apps do you currently have on your device?   \\\n",
       "100                                  Facebook, Twitter              \n",
       "101                            Plebbit, Mimi, Facebook              \n",
       "\n",
       "    How many memes do you have on your camera roll?  \\\n",
       "100                                              10   \n",
       "101                                            1024   \n",
       "\n",
       "    What do you think the meme industry is lacking?  \\\n",
       "100                                     Originality   \n",
       "101                                          Blepes   \n",
       "\n",
       "    Do you prefer video memes or picture memes?  \\\n",
       "100                               Picture Memes   \n",
       "101                               Picture Memes   \n",
       "\n",
       "     Number of minutes spent Giffing per day (receiving, sending, editing, viewing, etc.)  \\\n",
       "100                                                NaN                                      \n",
       "101                                                NaN                                      \n",
       "\n",
       "    What are your overall thoughts on Gifs (or Jif, if you are related to Satan)?  \\\n",
       "100                                                NaN                              \n",
       "101                         Take up too many megabytes                              \n",
       "\n",
       "    What challenges do you think meme creators face?  \\\n",
       "100                        Coming up with new memes    \n",
       "101                                      Using paint   \n",
       "\n",
       "     Number of minutes spent giffing per day (receiving, sending, editing, viewing, etc.)  \\\n",
       "100                                                0.0                                      \n",
       "101                                                2.0                                      \n",
       "\n",
       "             Name  Email  Email Address     Email Address.1  \n",
       "100  Pallavi Garg    NaN            NaN  pgarg35@gatech.edu  \n",
       "101           Rob    NaN            NaN  pheenixm@gmail.com  "
      ]
     },
     "execution_count": 137,
     "metadata": {},
     "output_type": "execute_result"
    }
   ],
   "source": [
    "df.tail(2)"
   ]
  },
  {
   "cell_type": "code",
   "execution_count": 117,
   "metadata": {},
   "outputs": [
    {
     "name": "stdout",
     "output_type": "stream",
     "text": [
      "object\n"
     ]
    }
   ],
   "source": [
    "memes_on_device = df[\"How many memes do you have on your camera roll?\"]\n",
    "print(memes_on_device.dtype)\n",
    "memes_on_device = memes_on_device.drop(labels=[84,99])\n",
    "# memes_on_device = memes_on_device.astype(int)"
   ]
  },
  {
   "cell_type": "code",
   "execution_count": 118,
   "metadata": {
    "scrolled": true
   },
   "outputs": [
    {
     "data": {
      "text/plain": [
       "0         0\n",
       "1        40\n",
       "2        50\n",
       "3         5\n",
       "4         2\n",
       "5        50\n",
       "6        50\n",
       "7       500\n",
       "8        15\n",
       "9       100\n",
       "10       25\n",
       "11       10\n",
       "12        5\n",
       "13      200\n",
       "14       25\n",
       "15     9000\n",
       "16      100\n",
       "17        3\n",
       "18       25\n",
       "19       50\n",
       "20     1267\n",
       "21      500\n",
       "22       15\n",
       "23        2\n",
       "24        0\n",
       "25       69\n",
       "26      300\n",
       "27       20\n",
       "28        1\n",
       "29       50\n",
       "       ... \n",
       "70       15\n",
       "71        0\n",
       "72        3\n",
       "73      200\n",
       "74        5\n",
       "75       10\n",
       "76       25\n",
       "77       15\n",
       "78      100\n",
       "79        0\n",
       "80     5000\n",
       "81      420\n",
       "82      168\n",
       "83       30\n",
       "85      309\n",
       "86     1000\n",
       "87        2\n",
       "88      983\n",
       "89       50\n",
       "90      100\n",
       "91       50\n",
       "92       20\n",
       "93     1500\n",
       "94      500\n",
       "95       12\n",
       "96      101\n",
       "97       50\n",
       "98       45\n",
       "100      10\n",
       "101    1024\n",
       "Name: How many memes do you have on your camera roll?, Length: 100, dtype: object"
      ]
     },
     "execution_count": 118,
     "metadata": {},
     "output_type": "execute_result"
    }
   ],
   "source": [
    "memes_on_device[memes_on_device != 0]"
   ]
  },
  {
   "cell_type": "code",
   "execution_count": 119,
   "metadata": {},
   "outputs": [
    {
     "data": {
      "text/plain": [
       "'40'"
      ]
     },
     "execution_count": 119,
     "metadata": {},
     "output_type": "execute_result"
    }
   ],
   "source": [
    "memes_on_device[1]"
   ]
  },
  {
   "cell_type": "code",
   "execution_count": 150,
   "metadata": {
    "scrolled": true
   },
   "outputs": [
    {
     "name": "stderr",
     "output_type": "stream",
     "text": [
      "ERROR:root:An unexpected error occurred while tokenizing input\n",
      "The following traceback may be corrupted or invalid\n",
      "The error message is: ('EOF in multi-line string', (1, 36))\n",
      "\n"
     ]
    },
    {
     "ename": "ValueError",
     "evalue": "The first argument to the plotly.graph_objs.Bar \nconstructor must be a dict or \nan instance of plotly.graph_objs.Bar",
     "output_type": "error",
     "traceback": [
      "\u001b[1;31m---------------------------------------------------------------------------\u001b[0m",
      "\u001b[1;31mValueError\u001b[0m                                Traceback (most recent call last)",
      "\u001b[1;32m<ipython-input-150-e36c3570f4bd>\u001b[0m in \u001b[0;36m<module>\u001b[1;34m()\u001b[0m\n\u001b[0;32m      2\u001b[0m \u001b[1;32mfrom\u001b[0m \u001b[0mdatetime\u001b[0m \u001b[1;32mimport\u001b[0m \u001b[0mdatetime\u001b[0m\u001b[1;33m\u001b[0m\u001b[0m\n\u001b[0;32m      3\u001b[0m \u001b[1;33m\u001b[0m\u001b[0m\n\u001b[1;32m----> 4\u001b[1;33m \u001b[0mdata\u001b[0m \u001b[1;33m=\u001b[0m \u001b[1;33m[\u001b[0m\u001b[0mgo\u001b[0m\u001b[1;33m.\u001b[0m\u001b[0mBar\u001b[0m\u001b[1;33m(\u001b[0m\u001b[0mmemes_on_device\u001b[0m\u001b[1;33m)\u001b[0m\u001b[1;33m]\u001b[0m\u001b[1;33m\u001b[0m\u001b[0m\n\u001b[0m\u001b[0;32m      5\u001b[0m \u001b[1;33m\u001b[0m\u001b[0m\n\u001b[0;32m      6\u001b[0m \u001b[1;33m\u001b[0m\u001b[0m\n",
      "\u001b[1;32mC:\\Users\\yassi\\Anaconda2\\lib\\site-packages\\plotly\\graph_objs\\_bar.pyc\u001b[0m in \u001b[0;36m__init__\u001b[1;34m(self, arg, base, basesrc, cliponaxis, constraintext, customdata, customdatasrc, dx, dy, error_x, error_y, hoverinfo, hoverinfosrc, hoverlabel, hovertemplate, hovertemplatesrc, hovertext, hovertextsrc, ids, idssrc, insidetextfont, legendgroup, marker, name, offset, offsetsrc, opacity, orientation, outsidetextfont, r, rsrc, selected, selectedpoints, showlegend, stream, t, text, textfont, textposition, textpositionsrc, textsrc, tsrc, uid, uirevision, unselected, visible, width, widthsrc, x, x0, xaxis, xcalendar, xsrc, y, y0, yaxis, ycalendar, ysrc, **kwargs)\u001b[0m\n\u001b[0;32m   2178\u001b[0m \u001b[0mThe\u001b[0m \u001b[0mfirst\u001b[0m \u001b[0margument\u001b[0m \u001b[0mto\u001b[0m \u001b[0mthe\u001b[0m \u001b[0mplotly\u001b[0m\u001b[1;33m.\u001b[0m\u001b[0mgraph_objs\u001b[0m\u001b[1;33m.\u001b[0m\u001b[0mBar\u001b[0m\u001b[1;33m\u001b[0m\u001b[0m\n\u001b[0;32m   2179\u001b[0m \u001b[0mconstructor\u001b[0m \u001b[0mmust\u001b[0m \u001b[0mbe\u001b[0m \u001b[0ma\u001b[0m \u001b[0mdict\u001b[0m \u001b[1;32mor\u001b[0m\u001b[1;33m\u001b[0m\u001b[0m\n\u001b[1;32m-> 2180\u001b[1;33m an instance of plotly.graph_objs.Bar\"\"\"\n\u001b[0m\u001b[0;32m   2181\u001b[0m             )\n\u001b[0;32m   2182\u001b[0m \u001b[1;33m\u001b[0m\u001b[0m\n",
      "\u001b[1;31mValueError\u001b[0m: The first argument to the plotly.graph_objs.Bar \nconstructor must be a dict or \nan instance of plotly.graph_objs.Bar"
     ]
    }
   ],
   "source": [
    "import plotly.graph_objs as go\n",
    "from datetime import datetime\n",
    "\n",
    "data = [go.Bar(x=[1,2,3], y=)]\n",
    "\n",
    "\n",
    "py.iplot(data, filename = 'time-series-simple')"
   ]
  },
  {
   "cell_type": "code",
   "execution_count": 32,
   "metadata": {},
   "outputs": [],
   "source": [
    "Pic_v_Vid = df[\"Do you prefer video memes or picture memes?\"]"
   ]
  },
  {
   "cell_type": "code",
   "execution_count": 58,
   "metadata": {},
   "outputs": [],
   "source": [
    "Pic_v_Vid_Count = Pic_v_Vid.value_counts()"
   ]
  },
  {
   "cell_type": "code",
   "execution_count": 74,
   "metadata": {},
   "outputs": [
    {
     "data": {
      "text/plain": [
       "Picture Memes    87\n",
       "Video Memes      15\n",
       "Name: Do you prefer video memes or picture memes?, dtype: int64"
      ]
     },
     "execution_count": 74,
     "metadata": {},
     "output_type": "execute_result"
    },
    {
     "data": {
      "image/png": "[encoded data removed]",
      "text/plain": [
       "<Figure size 432x288 with 1 Axes>"
      ]
     },
     "metadata": {},
     "output_type": "display_data"
    }
   ],
   "source": [
    "plt.pie(Pic_v_Vid_Count, explode=[0, .1], labels=[\"Picture Memes\", \"Video Memes\"])\n",
    "Pic_v_Vid_Count"
   ]
  },
  {
   "cell_type": "code",
   "execution_count": null,
   "metadata": {},
   "outputs": [],
   "source": []
  }
 ],
 "metadata": {
  "kernelspec": {
   "display_name": "Python 2",
   "language": "python",
   "name": "python2"
  },
  "language_info": {
   "codemirror_mode": {
    "name": "ipython",
    "version": 2
   },
   "file_extension": ".py",
   "mimetype": "text/x-python",
   "name": "python",
   "nbconvert_exporter": "python",
   "pygments_lexer": "ipython2",
   "version": "2.7.15"
  }
 },
 "nbformat": 4,
 "nbformat_minor": 2
}
